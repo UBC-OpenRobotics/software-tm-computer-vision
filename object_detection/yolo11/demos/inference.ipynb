{
 "cells": [
  {
   "cell_type": "code",
   "execution_count": null,
   "metadata": {},
   "outputs": [],
   "source": [
    "from ultralytics import YOLO\n",
    "import cv2"
   ]
  },
  {
   "cell_type": "code",
   "execution_count": null,
   "metadata": {},
   "outputs": [],
   "source": [
    "model = YOLO(\"yolo11s.pt\") "
   ]
  },
  {
   "cell_type": "code",
   "execution_count": 52,
   "metadata": {},
   "outputs": [
    {
     "name": "stdout",
     "output_type": "stream",
     "text": [
      "\n",
      "image 1/1 c:\\Users\\kevin\\Documents\\Computer-vision\\software-tm-computer-vision\\object_detection\\yolo11\\demos\\testimages\\test4.jpg: 448x640 2 cups, 3 bowls, 5 chairs, 2 potted plants, 2 dining tables, 2 ovens, 1 refrigerator, 25.1ms\n",
      "Speed: 1.7ms preprocess, 25.1ms inference, 1.1ms postprocess per image at shape (1, 3, 448, 640)\n",
      "Results saved to \u001b[1mruns\\detect\\predict2\u001b[0m\n",
      "3 labels saved to runs\\detect\\predict2\\labels\n"
     ]
    },
    {
     "data": {
      "text/plain": [
       "[ultralytics.engine.results.Results object with attributes:\n",
       " \n",
       " boxes: ultralytics.engine.results.Boxes object\n",
       " keypoints: None\n",
       " masks: None\n",
       " names: {0: 'person', 1: 'bicycle', 2: 'car', 3: 'motorcycle', 4: 'airplane', 5: 'bus', 6: 'train', 7: 'truck', 8: 'boat', 9: 'traffic light', 10: 'fire hydrant', 11: 'stop sign', 12: 'parking meter', 13: 'bench', 14: 'bird', 15: 'cat', 16: 'dog', 17: 'horse', 18: 'sheep', 19: 'cow', 20: 'elephant', 21: 'bear', 22: 'zebra', 23: 'giraffe', 24: 'backpack', 25: 'umbrella', 26: 'handbag', 27: 'tie', 28: 'suitcase', 29: 'frisbee', 30: 'skis', 31: 'snowboard', 32: 'sports ball', 33: 'kite', 34: 'baseball bat', 35: 'baseball glove', 36: 'skateboard', 37: 'surfboard', 38: 'tennis racket', 39: 'bottle', 40: 'wine glass', 41: 'cup', 42: 'fork', 43: 'knife', 44: 'spoon', 45: 'bowl', 46: 'banana', 47: 'apple', 48: 'sandwich', 49: 'orange', 50: 'broccoli', 51: 'carrot', 52: 'hot dog', 53: 'pizza', 54: 'donut', 55: 'cake', 56: 'chair', 57: 'couch', 58: 'potted plant', 59: 'bed', 60: 'dining table', 61: 'toilet', 62: 'tv', 63: 'laptop', 64: 'mouse', 65: 'remote', 66: 'keyboard', 67: 'cell phone', 68: 'microwave', 69: 'oven', 70: 'toaster', 71: 'sink', 72: 'refrigerator', 73: 'book', 74: 'clock', 75: 'vase', 76: 'scissors', 77: 'teddy bear', 78: 'hair drier', 79: 'toothbrush'}\n",
       " obb: None\n",
       " orig_img: array([[[232, 225, 206],\n",
       "         [232, 225, 206],\n",
       "         [233, 225, 208],\n",
       "         ...,\n",
       "         [234, 232, 231],\n",
       "         [235, 233, 232],\n",
       "         [235, 233, 232]],\n",
       " \n",
       "        [[235, 228, 209],\n",
       "         [235, 228, 209],\n",
       "         [236, 228, 211],\n",
       "         ...,\n",
       "         [234, 232, 231],\n",
       "         [235, 233, 232],\n",
       "         [235, 233, 232]],\n",
       " \n",
       "        [[229, 222, 202],\n",
       "         [230, 223, 203],\n",
       "         [232, 225, 206],\n",
       "         ...,\n",
       "         [234, 232, 231],\n",
       "         [235, 233, 232],\n",
       "         [235, 233, 232]],\n",
       " \n",
       "        ...,\n",
       " \n",
       "        [[ 65,  67,  77],\n",
       "         [ 68,  71,  79],\n",
       "         [ 72,  74,  82],\n",
       "         ...,\n",
       "         [ 67,  88, 110],\n",
       "         [ 77,  95, 118],\n",
       "         [ 77,  95, 118]],\n",
       " \n",
       "        [[ 67,  69,  80],\n",
       "         [ 66,  68,  78],\n",
       "         [ 64,  66,  76],\n",
       "         ...,\n",
       "         [ 70,  87, 113],\n",
       "         [ 71,  88, 114],\n",
       "         [ 71,  88, 114]],\n",
       " \n",
       "        [[ 67,  69,  80],\n",
       "         [ 66,  68,  79],\n",
       "         [ 64,  66,  76],\n",
       "         ...,\n",
       "         [ 70,  87, 114],\n",
       "         [ 71,  88, 115],\n",
       "         [ 71,  88, 115]]], dtype=uint8)\n",
       " orig_shape: (1314, 1986)\n",
       " path: 'c:\\\\Users\\\\kevin\\\\Documents\\\\Computer-vision\\\\software-tm-computer-vision\\\\object_detection\\\\yolo11\\\\demos\\\\testimages\\\\test4.jpg'\n",
       " probs: None\n",
       " save_dir: 'runs\\\\detect\\\\predict2'\n",
       " speed: {'preprocess': 1.7324000073131174, 'inference': 25.08830002625473, 'postprocess': 1.1042999976780266}]"
      ]
     },
     "execution_count": 52,
     "metadata": {},
     "output_type": "execute_result"
    }
   ],
   "source": [
    "model.predict(\"testimages/test4.jpg\", save=True, imgsz=640, conf=0.40, save_txt=True, device='cuda')"
   ]
  }
 ],
 "metadata": {
  "kernelspec": {
   "display_name": "ultralytics",
   "language": "python",
   "name": "python3"
  },
  "language_info": {
   "codemirror_mode": {
    "name": "ipython",
    "version": 3
   },
   "file_extension": ".py",
   "mimetype": "text/x-python",
   "name": "python",
   "nbconvert_exporter": "python",
   "pygments_lexer": "ipython3",
   "version": "3.10.12"
  }
 },
 "nbformat": 4,
 "nbformat_minor": 2
}
