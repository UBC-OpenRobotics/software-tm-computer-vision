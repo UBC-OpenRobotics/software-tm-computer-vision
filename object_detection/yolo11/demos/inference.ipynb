{
 "cells": [
  {
   "cell_type": "code",
   "execution_count": 1,
   "metadata": {},
   "outputs": [],
   "source": [
    "from ultralytics import YOLO\n",
    "import cv2"
   ]
  },
  {
   "cell_type": "code",
   "execution_count": null,
   "metadata": {},
   "outputs": [],
   "source": [
    "model = YOLO(\"./runs/detect/train2/weights/best.pt\") \n",
    "\n",
    "while True:\n",
    "    results = model(0, show=True)  # Show the results\n",
    "\n",
    "    for result in results:\n",
    "        boxes = [box for box in result.boxes if box.conf[0] > 0.40]\n",
    "        classes = result.names\n",
    "\n",
    "    # Check if the 'q' key is pressed to stop\n",
    "    if cv2.waitKey(1) & 0xFF == ord('q'):\n",
    "        print('q pressed')\n",
    "        break\n",
    "\n",
    "cv2.destroyAllWindows()"
   ]
  }
 ],
 "metadata": {
  "kernelspec": {
   "display_name": "ultralytics",
   "language": "python",
   "name": "python3"
  },
  "language_info": {
   "codemirror_mode": {
    "name": "ipython",
    "version": 3
   },
   "file_extension": ".py",
   "mimetype": "text/x-python",
   "name": "python",
   "nbconvert_exporter": "python",
   "pygments_lexer": "ipython3",
   "version": "3.10.12"
  }
 },
 "nbformat": 4,
 "nbformat_minor": 2
}
